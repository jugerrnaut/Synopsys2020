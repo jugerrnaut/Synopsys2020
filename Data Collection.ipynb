{
 "cells": [
  {
   "cell_type": "code",
   "execution_count": 4,
   "metadata": {},
   "outputs": [],
   "source": [
    "import joblib\n",
    "t = joblib.load(\"/Users/athreya/desktop/synopsis_2019/pdbids.npy\")"
   ]
  },
  {
   "cell_type": "code",
   "execution_count": 5,
   "metadata": {},
   "outputs": [
    {
     "data": {
      "text/plain": [
       "array(['5L4Q', '1ZZP', '3EQP', '3SOC', '2GOO', '4Q0G', '4PED', '4PED',\n",
       "       '4PED', '4PED', '1MRV', '2X18', '3GXL', '2LCR', '6GI6', '5FRI',\n",
       "       '5FRI', '6QM8', '6QM8', '4QFG', '5EZV', '5WNI', '1NNK', '1JNI',\n",
       "       '2MSE', '6EQX', '2P1M', '1KKD', '2GWM', '4AGK', '3WKE', '1RK2',\n",
       "       '4RA0', '5UVC', '5UVC', '3TZ0', '1PBW', '1BLJ', '2H63', '2K3G',\n",
       "       '3MDY', '3G2F', '2EKX', '6U2G', '5UEW', '2L5E', '4KCX', '2V0E',\n",
       "       '5IRI', '4YOM', '5FBO', '4QPM', '3SI5', '3SOA', '3SOA', '3SOA',\n",
       "       '4X3I', '3BHH', '5VLO', '3SOA', '2W4O', '6CCF', '5YV8', '2LV6',\n",
       "       '1IXV', '2RRS', '4ANM', '4YC6', '5ACB', '5ACB', '6RHW', '1PYE',\n",
       "       '1G3N', '1H4L', '1BLX', '1UA2', '3RGF', '3BLH', '4AGU', '4AAA',\n",
       "       '3ZDU', '6P8H', '4FSM', '2CN5', '2F9Z', '2GHG', '2WTC', '2AKR',\n",
       "       '6BMK', '4TN6', '4HOK', '4G16', '4HGL', '6A1C', '5Y9M', '3B6R',\n",
       "       '1U6R', '1K0O', '1CVZ', '6Q8K', '2EU9', '6FYV', '4HHV', '1XL7',\n",
       "       '1IML', '4NST', '1JWO', '1X6G', '1IXD', '5AUT', '2YA9', '5VJA',\n",
       "       '5JZJ', '1UF0', '1UF0', '4CKR', '2Z4F', '5CEN', '5EZV', '5W1R',\n",
       "       '2MJ6', '6QF4', '3ANQ', '4D2R', '6HDP', '5Y86', '4MQ2', '3W2S',\n",
       "       '6AEK', '6C01', '3KKA', '3KKA', '2KSO', '2GSF', '4M4P', '5ZRZ',\n",
       "       '3NRU', '3KUL', '3ZFX', '1SHW', '3ZFY', '2VWU', '3ZFM', '1L7I',\n",
       "       '1M6B', '5NGU', '6RQ4', '2I6L', '2Q8Y', '5BYY', '6SLG', '6CB0',\n",
       "       '5XOC', '6A5B', '4UWY', '1GJO', '3GRW', '4UXQ', '1XR0', '3HNG',\n",
       "       '1ETE', '4BSK', '2I0V', '3HJ6', '4KM9', '1G83', '6OIJ', '4C57',\n",
       "       '4U3Y', '1UKX', '4YHJ', '6EEB', '2ACX', '4ACH', '4ACC', '2K7L',\n",
       "       '4F4J', '6B7Z', '2WB8', '1AD5', '1H80', '6P5S', '6P5S', '6P5S',\n",
       "       '6CQD', '4H85', '1J8N', '3FE1', '3HGF', '2N86', '5EBZ', '3BRV',\n",
       "       '3BRT', '2KBX', '5E1S', '6BFN', '3MOP', '6O94', '2O8Y', '2Q87',\n",
       "       '3DTE', '2LMJ', '5WO4', '2XA4', '5TTS', '3PZE', '3E7O', '2B1P',\n",
       "       '1HS1', '1N4V', '2IZQ', '4K94', '2Y4I', '2Y4I', '4ZRK', '4ZRI',\n",
       "       '2IIM', '1X6A', '2WTK', '1M1R', '6QKP', '6GZK', '4USD', '1YRG',\n",
       "       '4YZM', '3KXZ', '2V59', '4O7O', '2O2V', '3KA0', '3R1N', '1WBN',\n",
       "       '2HAK', '2R0I', '2QNJ', '6MQ5', '2KYL', '3KHF', '5LOH', '5LOH',\n",
       "       '2Y4I', '1S9I', '2PPH', '2B2V', '3ENM', '3WZU', '2CU1', '5HQ8',\n",
       "       '4Y5O', '2CU1', '4D2P', '5ZND', '1EQT', '4UY9', '2RF0', '5K28',\n",
       "       '4UYA', '4BTF', '5WVD', '2AC3', '2A0A', '6DUU', '2M5Z', '2KXR',\n",
       "       '3KN6', '1KKD', '5KBX', '3COM', '4HKD', '3A7F', '5YF4', '6DTS',\n",
       "       '6JLE', '5ET0', '2MF8', '6BXI', '5XQZ', '4APC', '4B9D', '4H63'],\n",
       "      dtype='<U4')"
      ]
     },
     "execution_count": 5,
     "metadata": {},
     "output_type": "execute_result"
    }
   ],
   "source": [
    "t"
   ]
  },
  {
   "cell_type": "markdown",
   "metadata": {},
   "source": [
    "# setting up the data for the distance matrix nn"
   ]
  },
  {
   "cell_type": "code",
   "execution_count": null,
   "metadata": {},
   "outputs": [
    {
     "name": "stderr",
     "output_type": "stream",
     "text": [
      "\n",
      "  0%|          | 0/280 [00:00<?, ?it/s]\u001b[A\n",
      "  0%|          | 1/280 [00:03<16:16,  3.50s/it]\u001b[A\n",
      "  1%|          | 2/280 [00:20<35:29,  7.66s/it]\u001b[A\n",
      "  1%|          | 3/280 [00:22<27:19,  5.92s/it]\u001b[A\n",
      "  1%|▏         | 4/280 [00:26<23:40,  5.15s/it]\u001b[A\n",
      "  2%|▏         | 5/280 [00:27<18:47,  4.10s/it]\u001b[A\n",
      "  2%|▏         | 6/280 [00:34<22:53,  5.01s/it]\u001b[A\n",
      "  2%|▎         | 7/280 [00:37<19:25,  4.27s/it]\u001b[A\n",
      "  3%|▎         | 8/280 [00:39<15:54,  3.51s/it]\u001b[A\n",
      "  3%|▎         | 9/280 [00:40<13:27,  2.98s/it]\u001b[A\n",
      "  4%|▎         | 10/280 [00:42<11:36,  2.58s/it]\u001b[A\n",
      "  4%|▍         | 11/280 [00:43<08:53,  1.98s/it]\u001b[A\n",
      "  4%|▍         | 12/280 [00:45<09:08,  2.05s/it]\u001b[A\n",
      "  5%|▍         | 13/280 [00:45<07:05,  1.59s/it]\u001b[A\n",
      "  5%|▌         | 14/280 [01:12<40:42,  9.18s/it]\u001b[A\n",
      "  5%|▌         | 15/280 [01:14<30:26,  6.89s/it]\u001b[A\n",
      "  6%|▌         | 16/280 [01:15<22:13,  5.05s/it]\u001b[A\n",
      "  6%|▌         | 17/280 [01:16<17:05,  3.90s/it]\u001b[A\n",
      "  6%|▋         | 18/280 [05:19<5:30:56, 75.79s/it]\u001b[A"
     ]
    }
   ],
   "source": [
    "IMAGE_SIZE = 400\n",
    "\n",
    "import numpy as np\n",
    "import pandas as pd\n",
    "import matplotlib\n",
    "import matplotlib.pyplot as plt\n",
    "from biopandas.pdb import PandasPdb\n",
    "import joblib\n",
    "from scipy.spatial import distance_matrix\n",
    "from tqdm import tqdm\n",
    "import cv2\n",
    "full_list = []\n",
    "counter = 0\n",
    "for i in tqdm(list(t)):\n",
    "    ppdb = PandasPdb().fetch_pdb('{}'.format(i))\n",
    "    o_df = ppdb.df[\"ATOM\"]\n",
    "    n_df = o_df[[\"x_coord\",\"y_coord\",\"z_coord\"]]\n",
    "    dist_mat = pd.DataFrame(distance_matrix(n_df.values, n_df.values), index=n_df.index, columns=n_df.index)\n",
    "    im = dist_mat.values\n",
    "    try:\n",
    "        new_image = cv2.resize(im,(IMAGE_SIZE,IMAGE_SIZE))\n",
    "        full_list.append([np.array(new_image)])\n",
    "    except:\n",
    "        print(\"404\")\n",
    "        np.save(\"idata.npy\",full_list)\n",
    "    counter = counter + 1\n",
    "    if counter%10 == 0:\n",
    "        np.save(\"idata.npy\",full_list)\n",
    "np.save(\"idata.npy\",full_list)\n"
   ]
  },
  {
   "cell_type": "code",
   "execution_count": null,
   "metadata": {},
   "outputs": [],
   "source": []
  },
  {
   "cell_type": "code",
   "execution_count": null,
   "metadata": {},
   "outputs": [],
   "source": []
  }
 ],
 "metadata": {
  "kernelspec": {
   "display_name": "Python 3",
   "language": "python",
   "name": "python3"
  },
  "language_info": {
   "codemirror_mode": {
    "name": "ipython",
    "version": 3
   },
   "file_extension": ".py",
   "mimetype": "text/x-python",
   "name": "python",
   "nbconvert_exporter": "python",
   "pygments_lexer": "ipython3",
   "version": "3.7.4"
  }
 },
 "nbformat": 4,
 "nbformat_minor": 4
}
